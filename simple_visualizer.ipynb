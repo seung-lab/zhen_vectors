{
 "cells": [
  {
   "cell_type": "code",
   "execution_count": 58,
   "metadata": {},
   "outputs": [],
   "source": [
    "%matplotlib inline\n",
    "import matplotlib.pyplot as plt\n",
    "import time\n",
    "import numpy as np\n",
    "from six import iteritems\n",
    "import shelve\n",
    "from scipy.ndimage.measurements import label\n",
    "import h5py\n",
    "\n",
    "import PIL\n",
    "import os\n",
    "from IPython.display import Image, display\n",
    "from IPython.html.widgets import interact, fixed\n",
    "from IPython.html import widgets\n",
    "import matplotlib.mlab as mlab\n",
    "import matplotlib.pyplot as plt\n",
    "\n",
    "import h5py\n",
    "from skimage import feature\n",
    "import os\n",
    "from os.path import expanduser\n",
    "import time\n",
    "\n",
    "import torch\n",
    "\n",
    "from residuals import res_warp_img\n",
    "\n",
    "def visualize_residuals(res, figsize=(10,10), x_coords=None, y_coords=None, vec_grid=50):\n",
    "    res = res.squeeze()\n",
    "    assert res.shape[0] == res.shape[1]\n",
    "    plt.figure(figsize=figsize)\n",
    "    n = res.shape[0]\n",
    "    y, x = np.mgrid[0:n, 0:n]\n",
    "    \n",
    "    if x_coords is None:\n",
    "        x_coords = [0, res.shape[0]]\n",
    "    if y_coords is None:\n",
    "        y_coords = [0, res.shape[1]]\n",
    "    \n",
    "    ex = (-1) * res[:, :, 0]\n",
    "    ey = res[:, :, 1]\n",
    "    r = np.arctan2(ex, ey)\n",
    "    \n",
    "    interval = (x_coords[1] - x_coords[0]) // vec_grid\n",
    "    \n",
    "    plt.quiver(  x[x_coords[0]:x_coords[1]:interval, y_coords[0]:y_coords[1]:interval],  \n",
    "                 y[x_coords[0]:x_coords[1]:interval, y_coords[0]:y_coords[1]:interval],\n",
    "                ex[x_coords[0]:x_coords[1]:interval, y_coords[0]:y_coords[1]:interval], \n",
    "                ey[x_coords[0]:x_coords[1]:interval, y_coords[0]:y_coords[1]:interval], \n",
    "                 r[x_coords[0]:x_coords[1]:interval, y_coords[0]:y_coords[1]:interval], alpha=0.6)\n",
    "    plt.quiver(x[x_coords[0]:x_coords[1]:interval, y_coords[0]:y_coords[1]:interval],  \n",
    "                 y[x_coords[0]:x_coords[1]:interval, y_coords[0]:y_coords[1]:interval],\n",
    "                ex[x_coords[0]:x_coords[1]:interval, y_coords[0]:y_coords[1]:interval], \n",
    "                ey[x_coords[0]:x_coords[1]:interval, y_coords[0]:y_coords[1]:interval], edgecolor='k', facecolor='None', linewidth=.5)\n",
    "    plt.gca().invert_yaxis()\n",
    "    \n",
    "def display_image(img, x_coords=None, y_coords=None, normalize=False, figsize=(10, 10), mask=False):\n",
    "    if normalize and mask:\n",
    "        raise Exception(\"Masks can't be normalized\")\n",
    "    \n",
    "    plt.figure(figsize=figsize)\n",
    "    \n",
    "    if x_coords is None:\n",
    "        x_coords = [0, img.shape[0]]\n",
    "    if y_coords is None:\n",
    "        y_coords = [0, img.shape[1]]\n",
    "    \n",
    "    if mask:\n",
    "        plt.imshow(img[x_coords[0]:x_coords[1], y_coords[0]:y_coords[1]], cmap='gray', vmin=0, vmax=1.0)\n",
    "    elif not normalize:\n",
    "        plt.imshow(img[x_coords[0]:x_coords[1], y_coords[0]:y_coords[1]], cmap='gray', vmin=-0.5, vmax=0.5)\n",
    "    else:\n",
    "        plt.imshow(img[x_coords[0]:x_coords[1], y_coords[0]:y_coords[1]], cmap='gray')\n",
    "\n",
    "class ZhenVisualizer():\n",
    "    def __init__(self, img_path, vec_path):\n",
    "        self.img_h5 = h5py.File(img_path, 'r')['main']\n",
    "        self.vec_h5 = h5py.File(vec_path, 'r')['main']\n",
    "        \n",
    "    def display_multiimg(self, choice, i):\n",
    "        if choice == 'Residual':\n",
    "            visualize_residuals(self.vec_h5[i], figsize=(12, 12))\n",
    "        elif choice == 'Source':\n",
    "            display_image(self.img_h5[0, i], normalize=self.normalize, figsize=(12, 12))\n",
    "        elif choice == 'Target':\n",
    "            display_image(self.img_h5[0, i+1], normalize=self.normalize, figsize=(12, 12))   \n",
    "        elif choice == 'Predicted Target':\n",
    "            src_var = torch.FloatTensor(self.img_h5[0, i])\n",
    "            vec_var = torch.FloatTensor(self.vec_h5[i])\n",
    "            pred_tgt_var = res_warp_img(src_var, vec_var, is_pix_res=True)\n",
    "            pred_tgt = pred_tgt_var.cpu().detach().numpy()\n",
    "            display_image(pred_tgt, normalize=self.normalize, figsize=(12, 12))   \n",
    "        else:\n",
    "            raise Exception(\"bad choice bro\")\n",
    "        \n",
    "    def visualize(self, normalize=True):\n",
    "        id_selector = widgets.IntText(\n",
    "            value=0,\n",
    "            description='Sample ID:',\n",
    "            disabled=False\n",
    "        )\n",
    "        \n",
    "        self.normalize = normalize\n",
    "        \n",
    "        button_choice = widgets.ToggleButtons(\n",
    "                options=['Source', 'Target', 'Predicted Target', 'Residual'],\n",
    "                description='Image:',\n",
    "                disabled=False,\n",
    "                button_style='',\n",
    "            )\n",
    "\n",
    "        interact(self.display_multiimg, choice=button_choice, i=id_selector)"
   ]
  },
  {
   "cell_type": "markdown",
   "metadata": {},
   "source": [
    "#  Dataset"
   ]
  },
  {
   "cell_type": "code",
   "execution_count": 59,
   "metadata": {},
   "outputs": [],
   "source": [
    "z = ZhenVisualizer(img_path=\"./datasets/minnie_full_mip8_1300px_train.h5\", vec_path='./datasets/vecs_for_zhen.h5')"
   ]
  },
  {
   "cell_type": "code",
   "execution_count": 60,
   "metadata": {},
   "outputs": [
    {
     "data": {
      "application/vnd.jupyter.widget-view+json": {
       "model_id": "0d4c719b5fcd48c5ad3a27dcde39dda4",
       "version_major": 2,
       "version_minor": 0
      },
      "text/plain": [
       "interactive(children=(ToggleButtons(description='Image:', options=('Source', 'Target', 'Predicted Target', 'Re…"
      ]
     },
     "metadata": {},
     "output_type": "display_data"
    }
   ],
   "source": [
    "z.visualize()"
   ]
  }
 ],
 "metadata": {
  "kernelspec": {
   "display_name": "Python 3",
   "language": "python",
   "name": "python3"
  },
  "language_info": {
   "codemirror_mode": {
    "name": "ipython",
    "version": 3
   },
   "file_extension": ".py",
   "mimetype": "text/x-python",
   "name": "python",
   "nbconvert_exporter": "python",
   "pygments_lexer": "ipython3",
   "version": "3.5.2"
  }
 },
 "nbformat": 4,
 "nbformat_minor": 2
}
